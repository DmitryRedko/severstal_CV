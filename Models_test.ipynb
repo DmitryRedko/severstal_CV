{
 "cells": [
  {
   "cell_type": "markdown",
   "metadata": {},
   "source": [
    "# Warnings OS"
   ]
  },
  {
   "cell_type": "code",
   "execution_count": 2,
   "metadata": {},
   "outputs": [],
   "source": [
    "import warnings\n",
    "warnings.filterwarnings(\"ignore\")"
   ]
  },
  {
   "cell_type": "code",
   "execution_count": 2,
   "metadata": {},
   "outputs": [],
   "source": [
    "# import os\n",
    "# def set_certs():\n",
    "#     os.environ[\"REQUESTS_CA_BUNDLE\"] = r'C:\\Users\\da.redko\\Desktop\\Root.crt'\n",
    "# set_certs()"
   ]
  },
  {
   "cell_type": "code",
   "execution_count": 4,
   "metadata": {},
   "outputs": [
    {
     "name": "stdout",
     "output_type": "stream",
     "text": [
      "Преобразование видео завершено.\n"
     ]
    },
    {
     "ename": "AttributeError",
     "evalue": "'cv2.VideoWriter' object has no attribute 'size'",
     "output_type": "error",
     "traceback": [
      "\u001b[0;31m---------------------------------------------------------------------------\u001b[0m",
      "\u001b[0;31mAttributeError\u001b[0m                            Traceback (most recent call last)",
      "Cell \u001b[0;32mIn[4], line 30\u001b[0m\n\u001b[1;32m     27\u001b[0m output\u001b[39m.\u001b[39mrelease()\n\u001b[1;32m     29\u001b[0m \u001b[39mprint\u001b[39m(\u001b[39m\"\u001b[39m\u001b[39mПреобразование видео завершено.\u001b[39m\u001b[39m\"\u001b[39m)\n\u001b[0;32m---> 30\u001b[0m \u001b[39mprint\u001b[39m(output\u001b[39m.\u001b[39;49msize())\n",
      "\u001b[0;31mAttributeError\u001b[0m: 'cv2.VideoWriter' object has no attribute 'size'"
     ]
    }
   ],
   "source": [
    "import cv2\n",
    "\n",
    "# Открываем исходное видео\n",
    "video_capture = cv2.VideoCapture('v_SoccerJuggling_g23_c01.avi')\n",
    "\n",
    "# Получаем текущие размеры кадра\n",
    "frame_width = int(video_capture.get(3))\n",
    "frame_height = int(video_capture.get(4))\n",
    "\n",
    "# Создаем объект VideoWriter для сохранения преобразованного видео\n",
    "output = cv2.VideoWriter('output_video.mp4', cv2.VideoWriter_fourcc(*'mp4v'), 30, (224, 224))\n",
    "\n",
    "while True:\n",
    "    # Считываем кадр из исходного видео\n",
    "    ret, frame = video_capture.read()\n",
    "    if not ret:\n",
    "        break\n",
    "\n",
    "    # Изменяем размер кадра до 224x224\n",
    "    resized_frame = cv2.resize(frame, (224, 224))\n",
    "\n",
    "    # Записываем преобразованный кадр в выходное видео\n",
    "    output.write(resized_frame)\n",
    "\n",
    "# Закрываем все открытые видеофайлы\n",
    "video_capture.release()\n",
    "output.release()\n",
    "\n",
    "print(\"Преобразование видео завершено.\")"
   ]
  },
  {
   "cell_type": "code",
   "execution_count": 6,
   "metadata": {},
   "outputs": [
    {
     "name": "stderr",
     "output_type": "stream",
     "text": [
      "/home/dmitry/.local/lib/python3.10/site-packages/torchvision/io/video.py:161: UserWarning: The pts_unit 'pts' gives wrong results. Please use pts_unit 'sec'.\n",
      "  warnings.warn(\"The pts_unit 'pts' gives wrong results. Please use pts_unit 'sec'.\")\n"
     ]
    },
    {
     "name": "stdout",
     "output_type": "stream",
     "text": [
      "torch.Size([240, 3, 224, 224])\n"
     ]
    },
    {
     "ename": "RuntimeError",
     "evalue": "shape '[1, 96, 8, 56, 56]' is invalid for input of size 36126720",
     "output_type": "error",
     "traceback": [
      "\u001b[0;31m---------------------------------------------------------------------------\u001b[0m",
      "\u001b[0;31mRuntimeError\u001b[0m                              Traceback (most recent call last)",
      "Cell \u001b[0;32mIn[6], line 15\u001b[0m\n\u001b[1;32m     11\u001b[0m preprocess \u001b[39m=\u001b[39m weights\u001b[39m.\u001b[39mtransforms()\n\u001b[1;32m     13\u001b[0m batch \u001b[39m=\u001b[39m preprocess(vid)\u001b[39m.\u001b[39munsqueeze(\u001b[39m0\u001b[39m)\n\u001b[0;32m---> 15\u001b[0m prediction \u001b[39m=\u001b[39m model(batch)\u001b[39m.\u001b[39msqueeze(\u001b[39m0\u001b[39m)\u001b[39m.\u001b[39msoftmax(\u001b[39m0\u001b[39m)\n\u001b[1;32m     16\u001b[0m label \u001b[39m=\u001b[39m prediction\u001b[39m.\u001b[39margmax()\u001b[39m.\u001b[39mitem()\n\u001b[1;32m     17\u001b[0m score \u001b[39m=\u001b[39m prediction[label]\u001b[39m.\u001b[39mitem()\n",
      "File \u001b[0;32m~/.local/lib/python3.10/site-packages/torch/nn/modules/module.py:1501\u001b[0m, in \u001b[0;36mModule._call_impl\u001b[0;34m(self, *args, **kwargs)\u001b[0m\n\u001b[1;32m   1496\u001b[0m \u001b[39m# If we don't have any hooks, we want to skip the rest of the logic in\u001b[39;00m\n\u001b[1;32m   1497\u001b[0m \u001b[39m# this function, and just call forward.\u001b[39;00m\n\u001b[1;32m   1498\u001b[0m \u001b[39mif\u001b[39;00m \u001b[39mnot\u001b[39;00m (\u001b[39mself\u001b[39m\u001b[39m.\u001b[39m_backward_hooks \u001b[39mor\u001b[39;00m \u001b[39mself\u001b[39m\u001b[39m.\u001b[39m_backward_pre_hooks \u001b[39mor\u001b[39;00m \u001b[39mself\u001b[39m\u001b[39m.\u001b[39m_forward_hooks \u001b[39mor\u001b[39;00m \u001b[39mself\u001b[39m\u001b[39m.\u001b[39m_forward_pre_hooks\n\u001b[1;32m   1499\u001b[0m         \u001b[39mor\u001b[39;00m _global_backward_pre_hooks \u001b[39mor\u001b[39;00m _global_backward_hooks\n\u001b[1;32m   1500\u001b[0m         \u001b[39mor\u001b[39;00m _global_forward_hooks \u001b[39mor\u001b[39;00m _global_forward_pre_hooks):\n\u001b[0;32m-> 1501\u001b[0m     \u001b[39mreturn\u001b[39;00m forward_call(\u001b[39m*\u001b[39;49margs, \u001b[39m*\u001b[39;49m\u001b[39m*\u001b[39;49mkwargs)\n\u001b[1;32m   1502\u001b[0m \u001b[39m# Do not call functions when jit is used\u001b[39;00m\n\u001b[1;32m   1503\u001b[0m full_backward_hooks, non_full_backward_hooks \u001b[39m=\u001b[39m [], []\n",
      "File \u001b[0;32m~/.local/lib/python3.10/site-packages/torchvision/models/video/mvit.py:558\u001b[0m, in \u001b[0;36mMViT.forward\u001b[0;34m(self, x)\u001b[0m\n\u001b[1;32m    556\u001b[0m thw \u001b[39m=\u001b[39m (\u001b[39mself\u001b[39m\u001b[39m.\u001b[39mpos_encoding\u001b[39m.\u001b[39mtemporal_size,) \u001b[39m+\u001b[39m \u001b[39mself\u001b[39m\u001b[39m.\u001b[39mpos_encoding\u001b[39m.\u001b[39mspatial_size\n\u001b[1;32m    557\u001b[0m \u001b[39mfor\u001b[39;00m block \u001b[39min\u001b[39;00m \u001b[39mself\u001b[39m\u001b[39m.\u001b[39mblocks:\n\u001b[0;32m--> 558\u001b[0m     x, thw \u001b[39m=\u001b[39m block(x, thw)\n\u001b[1;32m    559\u001b[0m x \u001b[39m=\u001b[39m \u001b[39mself\u001b[39m\u001b[39m.\u001b[39mnorm(x)\n\u001b[1;32m    561\u001b[0m \u001b[39m# classifier \"token\" as used by standard language architectures\u001b[39;00m\n",
      "File \u001b[0;32m~/.local/lib/python3.10/site-packages/torch/nn/modules/module.py:1501\u001b[0m, in \u001b[0;36mModule._call_impl\u001b[0;34m(self, *args, **kwargs)\u001b[0m\n\u001b[1;32m   1496\u001b[0m \u001b[39m# If we don't have any hooks, we want to skip the rest of the logic in\u001b[39;00m\n\u001b[1;32m   1497\u001b[0m \u001b[39m# this function, and just call forward.\u001b[39;00m\n\u001b[1;32m   1498\u001b[0m \u001b[39mif\u001b[39;00m \u001b[39mnot\u001b[39;00m (\u001b[39mself\u001b[39m\u001b[39m.\u001b[39m_backward_hooks \u001b[39mor\u001b[39;00m \u001b[39mself\u001b[39m\u001b[39m.\u001b[39m_backward_pre_hooks \u001b[39mor\u001b[39;00m \u001b[39mself\u001b[39m\u001b[39m.\u001b[39m_forward_hooks \u001b[39mor\u001b[39;00m \u001b[39mself\u001b[39m\u001b[39m.\u001b[39m_forward_pre_hooks\n\u001b[1;32m   1499\u001b[0m         \u001b[39mor\u001b[39;00m _global_backward_pre_hooks \u001b[39mor\u001b[39;00m _global_backward_hooks\n\u001b[1;32m   1500\u001b[0m         \u001b[39mor\u001b[39;00m _global_forward_hooks \u001b[39mor\u001b[39;00m _global_forward_pre_hooks):\n\u001b[0;32m-> 1501\u001b[0m     \u001b[39mreturn\u001b[39;00m forward_call(\u001b[39m*\u001b[39;49margs, \u001b[39m*\u001b[39;49m\u001b[39m*\u001b[39;49mkwargs)\n\u001b[1;32m   1502\u001b[0m \u001b[39m# Do not call functions when jit is used\u001b[39;00m\n\u001b[1;32m   1503\u001b[0m full_backward_hooks, non_full_backward_hooks \u001b[39m=\u001b[39m [], []\n",
      "File \u001b[0;32m~/.local/lib/python3.10/site-packages/torchvision/models/video/mvit.py:384\u001b[0m, in \u001b[0;36mMultiscaleBlock.forward\u001b[0;34m(self, x, thw)\u001b[0m\n\u001b[1;32m    382\u001b[0m \u001b[39mdef\u001b[39;00m \u001b[39mforward\u001b[39m(\u001b[39mself\u001b[39m, x: torch\u001b[39m.\u001b[39mTensor, thw: Tuple[\u001b[39mint\u001b[39m, \u001b[39mint\u001b[39m, \u001b[39mint\u001b[39m]) \u001b[39m-\u001b[39m\u001b[39m>\u001b[39m Tuple[torch\u001b[39m.\u001b[39mTensor, Tuple[\u001b[39mint\u001b[39m, \u001b[39mint\u001b[39m, \u001b[39mint\u001b[39m]]:\n\u001b[1;32m    383\u001b[0m     x_norm1 \u001b[39m=\u001b[39m \u001b[39mself\u001b[39m\u001b[39m.\u001b[39mnorm1(x\u001b[39m.\u001b[39mtranspose(\u001b[39m1\u001b[39m, \u001b[39m2\u001b[39m))\u001b[39m.\u001b[39mtranspose(\u001b[39m1\u001b[39m, \u001b[39m2\u001b[39m) \u001b[39mif\u001b[39;00m \u001b[39mself\u001b[39m\u001b[39m.\u001b[39mneeds_transposal \u001b[39melse\u001b[39;00m \u001b[39mself\u001b[39m\u001b[39m.\u001b[39mnorm1(x)\n\u001b[0;32m--> 384\u001b[0m     x_attn, thw_new \u001b[39m=\u001b[39m \u001b[39mself\u001b[39;49m\u001b[39m.\u001b[39;49mattn(x_norm1, thw)\n\u001b[1;32m    385\u001b[0m     x \u001b[39m=\u001b[39m x \u001b[39mif\u001b[39;00m \u001b[39mself\u001b[39m\u001b[39m.\u001b[39mproject \u001b[39mis\u001b[39;00m \u001b[39mNone\u001b[39;00m \u001b[39mor\u001b[39;00m \u001b[39mnot\u001b[39;00m \u001b[39mself\u001b[39m\u001b[39m.\u001b[39mproj_after_attn \u001b[39melse\u001b[39;00m \u001b[39mself\u001b[39m\u001b[39m.\u001b[39mproject(x_norm1)\n\u001b[1;32m    386\u001b[0m     x_skip \u001b[39m=\u001b[39m x \u001b[39mif\u001b[39;00m \u001b[39mself\u001b[39m\u001b[39m.\u001b[39mpool_skip \u001b[39mis\u001b[39;00m \u001b[39mNone\u001b[39;00m \u001b[39melse\u001b[39;00m \u001b[39mself\u001b[39m\u001b[39m.\u001b[39mpool_skip(x, thw)[\u001b[39m0\u001b[39m]\n",
      "File \u001b[0;32m~/.local/lib/python3.10/site-packages/torch/nn/modules/module.py:1501\u001b[0m, in \u001b[0;36mModule._call_impl\u001b[0;34m(self, *args, **kwargs)\u001b[0m\n\u001b[1;32m   1496\u001b[0m \u001b[39m# If we don't have any hooks, we want to skip the rest of the logic in\u001b[39;00m\n\u001b[1;32m   1497\u001b[0m \u001b[39m# this function, and just call forward.\u001b[39;00m\n\u001b[1;32m   1498\u001b[0m \u001b[39mif\u001b[39;00m \u001b[39mnot\u001b[39;00m (\u001b[39mself\u001b[39m\u001b[39m.\u001b[39m_backward_hooks \u001b[39mor\u001b[39;00m \u001b[39mself\u001b[39m\u001b[39m.\u001b[39m_backward_pre_hooks \u001b[39mor\u001b[39;00m \u001b[39mself\u001b[39m\u001b[39m.\u001b[39m_forward_hooks \u001b[39mor\u001b[39;00m \u001b[39mself\u001b[39m\u001b[39m.\u001b[39m_forward_pre_hooks\n\u001b[1;32m   1499\u001b[0m         \u001b[39mor\u001b[39;00m _global_backward_pre_hooks \u001b[39mor\u001b[39;00m _global_backward_hooks\n\u001b[1;32m   1500\u001b[0m         \u001b[39mor\u001b[39;00m _global_forward_hooks \u001b[39mor\u001b[39;00m _global_forward_pre_hooks):\n\u001b[0;32m-> 1501\u001b[0m     \u001b[39mreturn\u001b[39;00m forward_call(\u001b[39m*\u001b[39;49margs, \u001b[39m*\u001b[39;49m\u001b[39m*\u001b[39;49mkwargs)\n\u001b[1;32m   1502\u001b[0m \u001b[39m# Do not call functions when jit is used\u001b[39;00m\n\u001b[1;32m   1503\u001b[0m full_backward_hooks, non_full_backward_hooks \u001b[39m=\u001b[39m [], []\n",
      "File \u001b[0;32m~/.local/lib/python3.10/site-packages/torchvision/models/video/mvit.py:293\u001b[0m, in \u001b[0;36mMultiscaleAttention.forward\u001b[0;34m(self, x, thw)\u001b[0m\n\u001b[1;32m    290\u001b[0m q, k, v \u001b[39m=\u001b[39m \u001b[39mself\u001b[39m\u001b[39m.\u001b[39mqkv(x)\u001b[39m.\u001b[39mreshape(B, N, \u001b[39m3\u001b[39m, \u001b[39mself\u001b[39m\u001b[39m.\u001b[39mnum_heads, \u001b[39mself\u001b[39m\u001b[39m.\u001b[39mhead_dim)\u001b[39m.\u001b[39mtranspose(\u001b[39m1\u001b[39m, \u001b[39m3\u001b[39m)\u001b[39m.\u001b[39munbind(dim\u001b[39m=\u001b[39m\u001b[39m2\u001b[39m)\n\u001b[1;32m    292\u001b[0m \u001b[39mif\u001b[39;00m \u001b[39mself\u001b[39m\u001b[39m.\u001b[39mpool_k \u001b[39mis\u001b[39;00m \u001b[39mnot\u001b[39;00m \u001b[39mNone\u001b[39;00m:\n\u001b[0;32m--> 293\u001b[0m     k, k_thw \u001b[39m=\u001b[39m \u001b[39mself\u001b[39;49m\u001b[39m.\u001b[39;49mpool_k(k, thw)\n\u001b[1;32m    294\u001b[0m \u001b[39melse\u001b[39;00m:\n\u001b[1;32m    295\u001b[0m     k_thw \u001b[39m=\u001b[39m thw\n",
      "File \u001b[0;32m~/.local/lib/python3.10/site-packages/torch/nn/modules/module.py:1501\u001b[0m, in \u001b[0;36mModule._call_impl\u001b[0;34m(self, *args, **kwargs)\u001b[0m\n\u001b[1;32m   1496\u001b[0m \u001b[39m# If we don't have any hooks, we want to skip the rest of the logic in\u001b[39;00m\n\u001b[1;32m   1497\u001b[0m \u001b[39m# this function, and just call forward.\u001b[39;00m\n\u001b[1;32m   1498\u001b[0m \u001b[39mif\u001b[39;00m \u001b[39mnot\u001b[39;00m (\u001b[39mself\u001b[39m\u001b[39m.\u001b[39m_backward_hooks \u001b[39mor\u001b[39;00m \u001b[39mself\u001b[39m\u001b[39m.\u001b[39m_backward_pre_hooks \u001b[39mor\u001b[39;00m \u001b[39mself\u001b[39m\u001b[39m.\u001b[39m_forward_hooks \u001b[39mor\u001b[39;00m \u001b[39mself\u001b[39m\u001b[39m.\u001b[39m_forward_pre_hooks\n\u001b[1;32m   1499\u001b[0m         \u001b[39mor\u001b[39;00m _global_backward_pre_hooks \u001b[39mor\u001b[39;00m _global_backward_hooks\n\u001b[1;32m   1500\u001b[0m         \u001b[39mor\u001b[39;00m _global_forward_hooks \u001b[39mor\u001b[39;00m _global_forward_pre_hooks):\n\u001b[0;32m-> 1501\u001b[0m     \u001b[39mreturn\u001b[39;00m forward_call(\u001b[39m*\u001b[39;49margs, \u001b[39m*\u001b[39;49m\u001b[39m*\u001b[39;49mkwargs)\n\u001b[1;32m   1502\u001b[0m \u001b[39m# Do not call functions when jit is used\u001b[39;00m\n\u001b[1;32m   1503\u001b[0m full_backward_hooks, non_full_backward_hooks \u001b[39m=\u001b[39m [], []\n",
      "File \u001b[0;32m~/.local/lib/python3.10/site-packages/torchvision/models/video/mvit.py:89\u001b[0m, in \u001b[0;36mPool.forward\u001b[0;34m(self, x, thw)\u001b[0m\n\u001b[1;32m     87\u001b[0m x \u001b[39m=\u001b[39m x\u001b[39m.\u001b[39mtranspose(\u001b[39m2\u001b[39m, \u001b[39m3\u001b[39m)\n\u001b[1;32m     88\u001b[0m B, N, C \u001b[39m=\u001b[39m x\u001b[39m.\u001b[39mshape[:\u001b[39m3\u001b[39m]\n\u001b[0;32m---> 89\u001b[0m x \u001b[39m=\u001b[39m x\u001b[39m.\u001b[39;49mreshape((B \u001b[39m*\u001b[39;49m N, C) \u001b[39m+\u001b[39;49m thw)\u001b[39m.\u001b[39mcontiguous()\n\u001b[1;32m     91\u001b[0m \u001b[39m# normalizing prior pooling is useful when we use BN which can be absorbed to speed up inference\u001b[39;00m\n\u001b[1;32m     92\u001b[0m \u001b[39mif\u001b[39;00m \u001b[39mself\u001b[39m\u001b[39m.\u001b[39mnorm_before_pool \u001b[39mand\u001b[39;00m \u001b[39mself\u001b[39m\u001b[39m.\u001b[39mnorm_act \u001b[39mis\u001b[39;00m \u001b[39mnot\u001b[39;00m \u001b[39mNone\u001b[39;00m:\n",
      "\u001b[0;31mRuntimeError\u001b[0m: shape '[1, 96, 8, 56, 56]' is invalid for input of size 36126720"
     ]
    }
   ],
   "source": [
    "from torchvision.io.video import read_video\n",
    "from torchvision.models.video import mvit_v2_s, MViT_V2_S_Weights\n",
    "vid, _, _ = read_video(\"output_video.mp4\", output_format=\"TCHW\")\n",
    "\n",
    "print(vid.size())\n",
    "\n",
    "weights = MViT_V2_S_Weights.DEFAULT\n",
    "model = mvit_v2_s(weights=weights)\n",
    "model.eval()\n",
    "\n",
    "preprocess = weights.transforms()\n",
    "\n",
    "batch = preprocess(vid).unsqueeze(0)\n",
    "\n",
    "prediction = model(batch).squeeze(0).softmax(0)\n",
    "label = prediction.argmax().item()\n",
    "score = prediction[label].item()\n",
    "category_name = weights.meta[\"categories\"][label]\n",
    "print(f\"{category_name}: {100 * score}%\")"
   ]
  },
  {
   "cell_type": "markdown",
   "metadata": {},
   "source": [
    "# r3d model"
   ]
  },
  {
   "cell_type": "markdown",
   "metadata": {},
   "source": [
    "## v_SoccerJuggling_g24_c01.avi"
   ]
  },
  {
   "cell_type": "code",
   "execution_count": 5,
   "metadata": {},
   "outputs": [
    {
     "name": "stdout",
     "output_type": "stream",
     "text": [
      "juggling soccer ball: 14.975011348724365%\n"
     ]
    }
   ],
   "source": [
    "from torchvision.io.video import read_video\n",
    "from torchvision.models.video import r3d_18, R3D_18_Weights\n",
    "\n",
    "vid, _, _ = read_video(\"v_SoccerJuggling_g24_c01.avi\", output_format=\"TCHW\")\n",
    "vid = vid[:32]  # optionally shorten duration\n",
    "\n",
    "# Step 1: Initialize model with the best available weights\n",
    "weights = R3D_18_Weights.DEFAULT\n",
    "model = r3d_18(weights=weights)\n",
    "model.eval()\n",
    "\n",
    "# Step 2: Initialize the inference transforms\n",
    "preprocess = weights.transforms()\n",
    "\n",
    "# Step 3: Apply inference preprocessing transforms\n",
    "batch = preprocess(vid).unsqueeze(0)\n",
    "\n",
    "# Step 4: Use the model and print the predicted category\n",
    "prediction = model(batch).squeeze(0).softmax(0)\n",
    "label = prediction.argmax().item()\n",
    "score = prediction[label].item()\n",
    "category_name = weights.meta[\"categories\"][label]\n",
    "print(f\"{category_name}: {100 * score}%\")"
   ]
  },
  {
   "cell_type": "markdown",
   "metadata": {},
   "source": [
    "## v_SoccerJuggling_g23_c01.avi"
   ]
  },
  {
   "cell_type": "code",
   "execution_count": 3,
   "metadata": {},
   "outputs": [
    {
     "name": "stdout",
     "output_type": "stream",
     "text": [
      "juggling soccer ball: 99.32699799537659%\n"
     ]
    }
   ],
   "source": [
    "from torchvision.io.video import read_video\n",
    "from torchvision.models.video import r3d_18, R3D_18_Weights\n",
    "\n",
    "vid, _, _ = read_video(\"v_SoccerJuggling_g23_c01.avi\", output_format=\"TCHW\")\n",
    "# vid = vid[:32]  # optionally shorten duration\n",
    "\n",
    "# Step 1: Initialize model with the best available weights\n",
    "weights = R3D_18_Weights.DEFAULT\n",
    "model = r3d_18(weights=weights)\n",
    "model.eval()\n",
    "\n",
    "# Step 2: Initialize the inference transforms\n",
    "preprocess = weights.transforms()\n",
    "\n",
    "# Step 3: Apply inference preprocessing transforms\n",
    "batch = preprocess(vid).unsqueeze(0)\n",
    "\n",
    "# Step 4: Use the model and print the predicted category\n",
    "prediction = model(batch).squeeze(0).softmax(0)\n",
    "label = prediction.argmax().item()\n",
    "score = prediction[label].item()\n",
    "category_name = weights.meta[\"categories\"][label]\n",
    "print(f\"{category_name}: {100 * score}%\")"
   ]
  },
  {
   "cell_type": "markdown",
   "metadata": {},
   "source": [
    "## v_SoccerJuggling_test.mp4"
   ]
  },
  {
   "cell_type": "code",
   "execution_count": 5,
   "metadata": {},
   "outputs": [
    {
     "name": "stdout",
     "output_type": "stream",
     "text": [
      "1094\n",
      "juggling soccer ball: 57.66889452934265%\n"
     ]
    }
   ],
   "source": [
    "from torchvision.io.video import read_video\n",
    "from torchvision.models.video import r3d_18, R3D_18_Weights\n",
    "\n",
    "vid, _, _ = read_video(\"v_SoccerJuggling_test.mp4\", output_format=\"TCHW\")\n",
    "print(len(vid))\n",
    "vid = vid[:500]  # optionally shorten duration\n",
    "\n",
    "# Step 1: Initialize model with the best available weights\n",
    "weights = R3D_18_Weights.DEFAULT\n",
    "model = r3d_18(weights=weights)\n",
    "model.eval()\n",
    "\n",
    "# Step 2: Initialize the inference transforms\n",
    "preprocess = weights.transforms()\n",
    "\n",
    "# Step 3: Apply inference preprocessing transforms\n",
    "batch = preprocess(vid).unsqueeze(0)\n",
    "\n",
    "# Step 4: Use the model and print the predicted category\n",
    "prediction = model(batch).squeeze(0).softmax(0)\n",
    "label = prediction.argmax().item()\n",
    "score = prediction[label].item()\n",
    "category_name = weights.meta[\"categories\"][label]\n",
    "print(f\"{category_name}: {100 * score}%\")"
   ]
  },
  {
   "cell_type": "markdown",
   "metadata": {},
   "source": [
    "## run_test.mp4"
   ]
  },
  {
   "cell_type": "code",
   "execution_count": 6,
   "metadata": {},
   "outputs": [
    {
     "name": "stdout",
     "output_type": "stream",
     "text": [
      "3301\n",
      "hurdling: 57.071131467819214%\n"
     ]
    }
   ],
   "source": [
    "from torchvision.io.video import read_video\n",
    "from torchvision.models.video import r3d_18, R3D_18_Weights\n",
    "\n",
    "vid, _, _ = read_video(\"run_test.mp4\", output_format=\"TCHW\")\n",
    "print(len(vid))\n",
    "vid = vid[200:300]  # optionally shorten duration\n",
    "\n",
    "# Step 1: Initialize model with the best available weights\n",
    "weights = R3D_18_Weights.DEFAULT\n",
    "model = r3d_18(weights=weights)\n",
    "model.eval()\n",
    "\n",
    "# Step 2: Initialize the inference transforms\n",
    "preprocess = weights.transforms()\n",
    "\n",
    "# Step 3: Apply inference preprocessing transforms\n",
    "batch = preprocess(vid).unsqueeze(0)\n",
    "\n",
    "# Step 4: Use the model and print the predicted category\n",
    "prediction = model(batch).squeeze(0).softmax(0)\n",
    "label = prediction.argmax().item()\n",
    "score = prediction[label].item()\n",
    "category_name = weights.meta[\"categories\"][label]\n",
    "print(f\"{category_name}: {100 * score}%\")"
   ]
  },
  {
   "cell_type": "markdown",
   "metadata": {},
   "source": [
    "# s3d model"
   ]
  },
  {
   "cell_type": "markdown",
   "metadata": {},
   "source": [
    "## v_SoccerJuggling_g23_c01.avi"
   ]
  },
  {
   "cell_type": "code",
   "execution_count": 37,
   "metadata": {},
   "outputs": [
    {
     "name": "stdout",
     "output_type": "stream",
     "text": [
      "240\n",
      "juggling soccer ball: 99.93283748626709%\n"
     ]
    }
   ],
   "source": [
    "from torchvision.io.video import read_video\n",
    "from torchvision.models.video import s3d, S3D_Weights\n",
    "\n",
    "vid, _, _ = read_video(\"v_SoccerJuggling_g23_c01.avi\", output_format=\"TCHW\")\n",
    "print(len(vid))\n",
    "# vid = vid[200:300]  # optionally shorten duration\n",
    "\n",
    "# Step 1: Initialize model with the best available weights\n",
    "weights = S3D_Weights.DEFAULT\n",
    "model = s3d(weights=weights)\n",
    "model.eval()\n",
    "\n",
    "# Step 2: Initialize the inference transforms\n",
    "preprocess = weights.transforms()\n",
    "\n",
    "# Step 3: Apply inference preprocessing transforms\n",
    "batch = preprocess(vid).unsqueeze(0)\n",
    "\n",
    "# Step 4: Use the model and print the predicted category\n",
    "prediction = model(batch).squeeze(0).softmax(0)\n",
    "label = prediction.argmax().item()\n",
    "score = prediction[label].item()\n",
    "category_name = weights.meta[\"categories\"][label]\n",
    "print(f\"{category_name}: {100 * score}%\")"
   ]
  },
  {
   "cell_type": "markdown",
   "metadata": {},
   "source": [
    "## v_SoccerJuggling_g24_c01.avi"
   ]
  },
  {
   "cell_type": "code",
   "execution_count": 7,
   "metadata": {},
   "outputs": [
    {
     "name": "stdout",
     "output_type": "stream",
     "text": [
      "251\n",
      "juggling soccer ball: 99.20051693916321%\n"
     ]
    }
   ],
   "source": [
    "from torchvision.io.video import read_video\n",
    "from torchvision.models.video import s3d, S3D_Weights\n",
    "\n",
    "vid, _, _ = read_video(\"v_SoccerJuggling_g24_c01.avi\", output_format=\"TCHW\")\n",
    "print(len(vid))\n",
    "vid = vid[:100]  # optionally shorten duration\n",
    "\n",
    "# Step 1: Initialize model with the best available weights\n",
    "weights = S3D_Weights.DEFAULT\n",
    "model = s3d(weights=weights)\n",
    "model.eval()\n",
    "\n",
    "# Step 2: Initialize the inference transforms\n",
    "preprocess = weights.transforms()\n",
    "\n",
    "# Step 3: Apply inference preprocessing transforms\n",
    "batch = preprocess(vid).unsqueeze(0)\n",
    "\n",
    "# Step 4: Use the model and print the predicted category\n",
    "prediction = model(batch).squeeze(0).softmax(0)\n",
    "label = prediction.argmax().item()\n",
    "score = prediction[label].item()\n",
    "category_name = weights.meta[\"categories\"][label]\n",
    "print(f\"{category_name}: {100 * score}%\")"
   ]
  },
  {
   "cell_type": "markdown",
   "metadata": {},
   "source": [
    "## v_SoccerJuggling_test.mp4"
   ]
  },
  {
   "cell_type": "code",
   "execution_count": 9,
   "metadata": {},
   "outputs": [
    {
     "name": "stdout",
     "output_type": "stream",
     "text": [
      "1094\n",
      "kicking soccer ball: 99.59304928779602%\n"
     ]
    }
   ],
   "source": [
    "from torchvision.io.video import read_video\n",
    "from torchvision.models.video import s3d, S3D_Weights\n",
    "\n",
    "vid, _, _ = read_video(\"v_SoccerJuggling_test.mp4\", output_format=\"TCHW\")\n",
    "print(len(vid))\n",
    "vid = vid[:500]  # optionally shorten duration\n",
    "\n",
    "# Step 1: Initialize model with the best available weights\n",
    "weights = S3D_Weights.DEFAULT\n",
    "model = s3d(weights=weights)\n",
    "model.eval()\n",
    "\n",
    "# Step 2: Initialize the inference transforms\n",
    "preprocess = weights.transforms()\n",
    "\n",
    "# Step 3: Apply inference preprocessing transforms\n",
    "batch = preprocess(vid).unsqueeze(0)\n",
    "\n",
    "# Step 4: Use the model and print the predicted category\n",
    "prediction = model(batch).squeeze(0).softmax(0)\n",
    "label = prediction.argmax().item()\n",
    "score = prediction[label].item()\n",
    "category_name = weights.meta[\"categories\"][label]\n",
    "print(f\"{category_name}: {100 * score}%\")"
   ]
  },
  {
   "cell_type": "markdown",
   "metadata": {},
   "source": [
    "## run_test.mp4"
   ]
  },
  {
   "cell_type": "code",
   "execution_count": 8,
   "metadata": {},
   "outputs": [
    {
     "name": "stdout",
     "output_type": "stream",
     "text": [
      "3301\n",
      "hurdling: 93.86357069015503%\n"
     ]
    }
   ],
   "source": [
    "from torchvision.io.video import read_video\n",
    "from torchvision.models.video import s3d, S3D_Weights\n",
    "\n",
    "vid, _, _ = read_video(\"run_test.mp4\", output_format=\"TCHW\")\n",
    "print(len(vid))\n",
    "vid = vid[200:300]  # optionally shorten duration\n",
    "\n",
    "# Step 1: Initialize model with the best available weights\n",
    "weights = S3D_Weights.DEFAULT\n",
    "model = s3d(weights=weights)\n",
    "model.eval()\n",
    "\n",
    "# Step 2: Initialize the inference transforms\n",
    "preprocess = weights.transforms()\n",
    "\n",
    "# Step 3: Apply inference preprocessing transforms\n",
    "batch = preprocess(vid).unsqueeze(0)\n",
    "\n",
    "# Step 4: Use the model and print the predicted category\n",
    "prediction = model(batch).squeeze(0).softmax(0)\n",
    "label = prediction.argmax().item()\n",
    "score = prediction[label].item()\n",
    "category_name = weights.meta[\"categories\"][label]\n",
    "print(f\"{category_name}: {100 * score}%\")"
   ]
  },
  {
   "cell_type": "code",
   "execution_count": null,
   "metadata": {},
   "outputs": [],
   "source": []
  }
 ],
 "metadata": {
  "kernelspec": {
   "display_name": "Python 3",
   "language": "python",
   "name": "python3"
  },
  "language_info": {
   "codemirror_mode": {
    "name": "ipython",
    "version": 3
   },
   "file_extension": ".py",
   "mimetype": "text/x-python",
   "name": "python",
   "nbconvert_exporter": "python",
   "pygments_lexer": "ipython3",
   "version": "3.10.6"
  },
  "orig_nbformat": 4
 },
 "nbformat": 4,
 "nbformat_minor": 2
}
